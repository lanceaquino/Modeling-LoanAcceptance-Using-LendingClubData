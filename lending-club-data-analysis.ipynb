{
 "cells": [
  {
   "cell_type": "markdown",
   "metadata": {},
   "source": [
    "# Lending Club Data\n",
    "\n",
    "The Lending Club is a platform which allows the crowdfunding of various loans. Various investors are able to browse the profiles of people applying for loans and decide whether or not to help fun them.\n",
    "\n",
    "\n"
   ]
  },
  {
   "cell_type": "markdown",
   "metadata": {},
   "source": [
    "### Library Imports "
   ]
  },
  {
   "cell_type": "code",
   "execution_count": 1,
   "metadata": {},
   "outputs": [],
   "source": [
    "import pandas as pd \n",
    "import numpy as np \n",
    "import matplotlib.pyplot as plt \n",
    "import time \n",
    "import seaborn as sn \n",
    "\n"
   ]
  },
  {
   "cell_type": "markdown",
   "metadata": {},
   "source": [
    "### Loading the Data "
   ]
  },
  {
   "cell_type": "code",
   "execution_count": 408,
   "metadata": {},
   "outputs": [
    {
     "name": "stderr",
     "output_type": "stream",
     "text": [
      "/Users/lancelot/opt/anaconda3/lib/python3.8/site-packages/IPython/core/interactiveshell.py:3146: DtypeWarning: Columns (0,19,49,59,118,129,130,131,134,135,136,139,145,146,147) have mixed types.Specify dtype option on import or set low_memory=False.\n",
      "  has_raised = await self.run_ast_nodes(code_ast.body, cell_name,\n"
     ]
    }
   ],
   "source": [
    "df_accepted = pd.read_csv(\"accepted.csv\")\n",
    "df_rejected = pd.read_csv(\"rejected.csv\")\n"
   ]
  },
  {
   "cell_type": "code",
   "execution_count": 409,
   "metadata": {},
   "outputs": [
    {
     "name": "stdout",
     "output_type": "stream",
     "text": [
      "(27648741, 9)\n"
     ]
    },
    {
     "data": {
      "text/html": [
       "<div>\n",
       "<style scoped>\n",
       "    .dataframe tbody tr th:only-of-type {\n",
       "        vertical-align: middle;\n",
       "    }\n",
       "\n",
       "    .dataframe tbody tr th {\n",
       "        vertical-align: top;\n",
       "    }\n",
       "\n",
       "    .dataframe thead th {\n",
       "        text-align: right;\n",
       "    }\n",
       "</style>\n",
       "<table border=\"1\" class=\"dataframe\">\n",
       "  <thead>\n",
       "    <tr style=\"text-align: right;\">\n",
       "      <th></th>\n",
       "      <th>0</th>\n",
       "      <th>1</th>\n",
       "      <th>2</th>\n",
       "      <th>3</th>\n",
       "      <th>4</th>\n",
       "    </tr>\n",
       "  </thead>\n",
       "  <tbody>\n",
       "    <tr>\n",
       "      <th>Amount Requested</th>\n",
       "      <td>1000</td>\n",
       "      <td>1000</td>\n",
       "      <td>11000</td>\n",
       "      <td>6000</td>\n",
       "      <td>1500</td>\n",
       "    </tr>\n",
       "    <tr>\n",
       "      <th>Application Date</th>\n",
       "      <td>2007-05-26</td>\n",
       "      <td>2007-05-26</td>\n",
       "      <td>2007-05-27</td>\n",
       "      <td>2007-05-27</td>\n",
       "      <td>2007-05-27</td>\n",
       "    </tr>\n",
       "    <tr>\n",
       "      <th>Loan Title</th>\n",
       "      <td>Wedding Covered but No Honeymoon</td>\n",
       "      <td>Consolidating Debt</td>\n",
       "      <td>Want to consolidate my debt</td>\n",
       "      <td>waksman</td>\n",
       "      <td>mdrigo</td>\n",
       "    </tr>\n",
       "    <tr>\n",
       "      <th>Risk_Score</th>\n",
       "      <td>693</td>\n",
       "      <td>703</td>\n",
       "      <td>715</td>\n",
       "      <td>698</td>\n",
       "      <td>509</td>\n",
       "    </tr>\n",
       "    <tr>\n",
       "      <th>Debt-To-Income Ratio</th>\n",
       "      <td>10%</td>\n",
       "      <td>10%</td>\n",
       "      <td>10%</td>\n",
       "      <td>38.64%</td>\n",
       "      <td>9.43%</td>\n",
       "    </tr>\n",
       "    <tr>\n",
       "      <th>Zip Code</th>\n",
       "      <td>481xx</td>\n",
       "      <td>010xx</td>\n",
       "      <td>212xx</td>\n",
       "      <td>017xx</td>\n",
       "      <td>209xx</td>\n",
       "    </tr>\n",
       "    <tr>\n",
       "      <th>State</th>\n",
       "      <td>NM</td>\n",
       "      <td>MA</td>\n",
       "      <td>MD</td>\n",
       "      <td>MA</td>\n",
       "      <td>MD</td>\n",
       "    </tr>\n",
       "    <tr>\n",
       "      <th>Employment Length</th>\n",
       "      <td>4 years</td>\n",
       "      <td>&lt; 1 year</td>\n",
       "      <td>1 year</td>\n",
       "      <td>&lt; 1 year</td>\n",
       "      <td>&lt; 1 year</td>\n",
       "    </tr>\n",
       "    <tr>\n",
       "      <th>Policy Code</th>\n",
       "      <td>0</td>\n",
       "      <td>0</td>\n",
       "      <td>0</td>\n",
       "      <td>0</td>\n",
       "      <td>0</td>\n",
       "    </tr>\n",
       "  </tbody>\n",
       "</table>\n",
       "</div>"
      ],
      "text/plain": [
       "                                                     0                   1  \\\n",
       "Amount Requested                                  1000                1000   \n",
       "Application Date                            2007-05-26          2007-05-26   \n",
       "Loan Title            Wedding Covered but No Honeymoon  Consolidating Debt   \n",
       "Risk_Score                                         693                 703   \n",
       "Debt-To-Income Ratio                               10%                 10%   \n",
       "Zip Code                                         481xx               010xx   \n",
       "State                                               NM                  MA   \n",
       "Employment Length                              4 years            < 1 year   \n",
       "Policy Code                                          0                   0   \n",
       "\n",
       "                                                2           3           4  \n",
       "Amount Requested                            11000        6000        1500  \n",
       "Application Date                       2007-05-27  2007-05-27  2007-05-27  \n",
       "Loan Title            Want to consolidate my debt     waksman      mdrigo  \n",
       "Risk_Score                                    715         698         509  \n",
       "Debt-To-Income Ratio                          10%      38.64%       9.43%  \n",
       "Zip Code                                    212xx       017xx       209xx  \n",
       "State                                          MD          MA          MD  \n",
       "Employment Length                          1 year    < 1 year    < 1 year  \n",
       "Policy Code                                     0           0           0  "
      ]
     },
     "execution_count": 409,
     "metadata": {},
     "output_type": "execute_result"
    }
   ],
   "source": [
    "print(df_rejected.shape)\n",
    "df_rejected.head().T"
   ]
  },
  {
   "cell_type": "code",
   "execution_count": 410,
   "metadata": {},
   "outputs": [
    {
     "name": "stdout",
     "output_type": "stream",
     "text": [
      "(2260701, 151)\n"
     ]
    },
    {
     "data": {
      "text/html": [
       "<div>\n",
       "<style scoped>\n",
       "    .dataframe tbody tr th:only-of-type {\n",
       "        vertical-align: middle;\n",
       "    }\n",
       "\n",
       "    .dataframe tbody tr th {\n",
       "        vertical-align: top;\n",
       "    }\n",
       "\n",
       "    .dataframe thead th {\n",
       "        text-align: right;\n",
       "    }\n",
       "</style>\n",
       "<table border=\"1\" class=\"dataframe\">\n",
       "  <thead>\n",
       "    <tr style=\"text-align: right;\">\n",
       "      <th></th>\n",
       "      <th>0</th>\n",
       "      <th>1</th>\n",
       "      <th>2</th>\n",
       "      <th>3</th>\n",
       "      <th>4</th>\n",
       "    </tr>\n",
       "  </thead>\n",
       "  <tbody>\n",
       "    <tr>\n",
       "      <th>id</th>\n",
       "      <td>68407277</td>\n",
       "      <td>68355089</td>\n",
       "      <td>68341763</td>\n",
       "      <td>66310712</td>\n",
       "      <td>68476807</td>\n",
       "    </tr>\n",
       "    <tr>\n",
       "      <th>member_id</th>\n",
       "      <td>NaN</td>\n",
       "      <td>NaN</td>\n",
       "      <td>NaN</td>\n",
       "      <td>NaN</td>\n",
       "      <td>NaN</td>\n",
       "    </tr>\n",
       "    <tr>\n",
       "      <th>loan_amnt</th>\n",
       "      <td>3600</td>\n",
       "      <td>24700</td>\n",
       "      <td>20000</td>\n",
       "      <td>35000</td>\n",
       "      <td>10400</td>\n",
       "    </tr>\n",
       "    <tr>\n",
       "      <th>funded_amnt</th>\n",
       "      <td>3600</td>\n",
       "      <td>24700</td>\n",
       "      <td>20000</td>\n",
       "      <td>35000</td>\n",
       "      <td>10400</td>\n",
       "    </tr>\n",
       "    <tr>\n",
       "      <th>funded_amnt_inv</th>\n",
       "      <td>3600</td>\n",
       "      <td>24700</td>\n",
       "      <td>20000</td>\n",
       "      <td>35000</td>\n",
       "      <td>10400</td>\n",
       "    </tr>\n",
       "    <tr>\n",
       "      <th>...</th>\n",
       "      <td>...</td>\n",
       "      <td>...</td>\n",
       "      <td>...</td>\n",
       "      <td>...</td>\n",
       "      <td>...</td>\n",
       "    </tr>\n",
       "    <tr>\n",
       "      <th>settlement_status</th>\n",
       "      <td>NaN</td>\n",
       "      <td>NaN</td>\n",
       "      <td>NaN</td>\n",
       "      <td>NaN</td>\n",
       "      <td>NaN</td>\n",
       "    </tr>\n",
       "    <tr>\n",
       "      <th>settlement_date</th>\n",
       "      <td>NaN</td>\n",
       "      <td>NaN</td>\n",
       "      <td>NaN</td>\n",
       "      <td>NaN</td>\n",
       "      <td>NaN</td>\n",
       "    </tr>\n",
       "    <tr>\n",
       "      <th>settlement_amount</th>\n",
       "      <td>NaN</td>\n",
       "      <td>NaN</td>\n",
       "      <td>NaN</td>\n",
       "      <td>NaN</td>\n",
       "      <td>NaN</td>\n",
       "    </tr>\n",
       "    <tr>\n",
       "      <th>settlement_percentage</th>\n",
       "      <td>NaN</td>\n",
       "      <td>NaN</td>\n",
       "      <td>NaN</td>\n",
       "      <td>NaN</td>\n",
       "      <td>NaN</td>\n",
       "    </tr>\n",
       "    <tr>\n",
       "      <th>settlement_term</th>\n",
       "      <td>NaN</td>\n",
       "      <td>NaN</td>\n",
       "      <td>NaN</td>\n",
       "      <td>NaN</td>\n",
       "      <td>NaN</td>\n",
       "    </tr>\n",
       "  </tbody>\n",
       "</table>\n",
       "<p>151 rows × 5 columns</p>\n",
       "</div>"
      ],
      "text/plain": [
       "                              0         1         2         3         4\n",
       "id                     68407277  68355089  68341763  66310712  68476807\n",
       "member_id                   NaN       NaN       NaN       NaN       NaN\n",
       "loan_amnt                  3600     24700     20000     35000     10400\n",
       "funded_amnt                3600     24700     20000     35000     10400\n",
       "funded_amnt_inv            3600     24700     20000     35000     10400\n",
       "...                         ...       ...       ...       ...       ...\n",
       "settlement_status           NaN       NaN       NaN       NaN       NaN\n",
       "settlement_date             NaN       NaN       NaN       NaN       NaN\n",
       "settlement_amount           NaN       NaN       NaN       NaN       NaN\n",
       "settlement_percentage       NaN       NaN       NaN       NaN       NaN\n",
       "settlement_term             NaN       NaN       NaN       NaN       NaN\n",
       "\n",
       "[151 rows x 5 columns]"
      ]
     },
     "execution_count": 410,
     "metadata": {},
     "output_type": "execute_result"
    }
   ],
   "source": [
    "print(df_accepted.shape)\n",
    "df_accepted.head().T"
   ]
  },
  {
   "cell_type": "code",
   "execution_count": 411,
   "metadata": {},
   "outputs": [
    {
     "data": {
      "text/plain": [
       "Amount Requested        float64\n",
       "Application Date         object\n",
       "Loan Title               object\n",
       "Risk_Score              float64\n",
       "Debt-To-Income Ratio     object\n",
       "Zip Code                 object\n",
       "State                    object\n",
       "Employment Length        object\n",
       "Policy Code             float64\n",
       "dtype: object"
      ]
     },
     "execution_count": 411,
     "metadata": {},
     "output_type": "execute_result"
    }
   ],
   "source": [
    "df_rejected.dtypes"
   ]
  },
  {
   "cell_type": "code",
   "execution_count": 412,
   "metadata": {},
   "outputs": [
    {
     "data": {
      "text/plain": [
       "id                        object\n",
       "member_id                float64\n",
       "loan_amnt                float64\n",
       "funded_amnt              float64\n",
       "funded_amnt_inv          float64\n",
       "                          ...   \n",
       "settlement_status         object\n",
       "settlement_date           object\n",
       "settlement_amount        float64\n",
       "settlement_percentage    float64\n",
       "settlement_term          float64\n",
       "Length: 151, dtype: object"
      ]
     },
     "execution_count": 412,
     "metadata": {},
     "output_type": "execute_result"
    }
   ],
   "source": [
    "df_accepted.dtypes"
   ]
  },
  {
   "cell_type": "markdown",
   "metadata": {},
   "source": [
    "### Processing ACCEPTED Data Columns"
   ]
  },
  {
   "cell_type": "code",
   "execution_count": 499,
   "metadata": {},
   "outputs": [
    {
     "data": {
      "text/html": [
       "<div>\n",
       "<style scoped>\n",
       "    .dataframe tbody tr th:only-of-type {\n",
       "        vertical-align: middle;\n",
       "    }\n",
       "\n",
       "    .dataframe tbody tr th {\n",
       "        vertical-align: top;\n",
       "    }\n",
       "\n",
       "    .dataframe thead th {\n",
       "        text-align: right;\n",
       "    }\n",
       "</style>\n",
       "<table border=\"1\" class=\"dataframe\">\n",
       "  <thead>\n",
       "    <tr style=\"text-align: right;\">\n",
       "      <th></th>\n",
       "      <th>funded_amnt</th>\n",
       "      <th>settlement_date</th>\n",
       "      <th>title</th>\n",
       "      <th>fico_range_low</th>\n",
       "      <th>fico_range_high</th>\n",
       "      <th>dti</th>\n",
       "      <th>zip_code</th>\n",
       "      <th>addr_state</th>\n",
       "      <th>emp_length</th>\n",
       "      <th>policy_code</th>\n",
       "    </tr>\n",
       "  </thead>\n",
       "  <tbody>\n",
       "    <tr>\n",
       "      <th>0</th>\n",
       "      <td>3600.0</td>\n",
       "      <td>NaN</td>\n",
       "      <td>Debt consolidation</td>\n",
       "      <td>675.0</td>\n",
       "      <td>679.0</td>\n",
       "      <td>5.91</td>\n",
       "      <td>190xx</td>\n",
       "      <td>PA</td>\n",
       "      <td>10+ years</td>\n",
       "      <td>1.0</td>\n",
       "    </tr>\n",
       "    <tr>\n",
       "      <th>1</th>\n",
       "      <td>24700.0</td>\n",
       "      <td>NaN</td>\n",
       "      <td>Business</td>\n",
       "      <td>715.0</td>\n",
       "      <td>719.0</td>\n",
       "      <td>16.06</td>\n",
       "      <td>577xx</td>\n",
       "      <td>SD</td>\n",
       "      <td>10+ years</td>\n",
       "      <td>1.0</td>\n",
       "    </tr>\n",
       "    <tr>\n",
       "      <th>2</th>\n",
       "      <td>20000.0</td>\n",
       "      <td>NaN</td>\n",
       "      <td>NaN</td>\n",
       "      <td>695.0</td>\n",
       "      <td>699.0</td>\n",
       "      <td>10.78</td>\n",
       "      <td>605xx</td>\n",
       "      <td>IL</td>\n",
       "      <td>10+ years</td>\n",
       "      <td>1.0</td>\n",
       "    </tr>\n",
       "  </tbody>\n",
       "</table>\n",
       "</div>"
      ],
      "text/plain": [
       "   funded_amnt settlement_date               title  fico_range_low  \\\n",
       "0       3600.0             NaN  Debt consolidation           675.0   \n",
       "1      24700.0             NaN            Business           715.0   \n",
       "2      20000.0             NaN                 NaN           695.0   \n",
       "\n",
       "   fico_range_high    dti zip_code addr_state emp_length  policy_code  \n",
       "0            679.0   5.91    190xx         PA  10+ years          1.0  \n",
       "1            719.0  16.06    577xx         SD  10+ years          1.0  \n",
       "2            699.0  10.78    605xx         IL  10+ years          1.0  "
      ]
     },
     "execution_count": 499,
     "metadata": {},
     "output_type": "execute_result"
    }
   ],
   "source": [
    "# Choose the rows that are similar to the rejected columns\n",
    "df_accepted_stripped = df_accepted[['funded_amnt', 'settlement_date', 'title', \n",
    "                                    'fico_range_low','fico_range_high', 'dti', \n",
    "                                    'zip_code', 'addr_state', 'emp_length', \n",
    "                                    'policy_code']]\n",
    "\n",
    "# Here, we dropped loan title since it contains multiple types of descriptions \n",
    "# and strings would be difficult to deal with in the model \n",
    "\n",
    "df_accepted_stripped.head(n=3)\n"
   ]
  },
  {
   "cell_type": "code",
   "execution_count": 500,
   "metadata": {},
   "outputs": [
    {
     "data": {
      "text/plain": [
       "funded_amnt        float64\n",
       "settlement_date     object\n",
       "title               object\n",
       "fico_range_low     float64\n",
       "fico_range_high    float64\n",
       "dti                float64\n",
       "zip_code            object\n",
       "addr_state          object\n",
       "emp_length          object\n",
       "policy_code        float64\n",
       "dtype: object"
      ]
     },
     "execution_count": 500,
     "metadata": {},
     "output_type": "execute_result"
    }
   ],
   "source": [
    "df_accepted_stripped.dtypes "
   ]
  },
  {
   "cell_type": "code",
   "execution_count": 501,
   "metadata": {},
   "outputs": [],
   "source": [
    "# Avoid SettingWarningCopy and also to not load the dataset again \n",
    "df_accepted_stripped_copy = df_accepted_stripped.copy() \n",
    "\n",
    "# Acquire the average fico score \n",
    "mean_fico = df_accepted_stripped_copy[['fico_range_low', 'fico_range_high']].mean(axis = 1)\n",
    "\n",
    "df_accepted_stripped_copy['fico_score'] = mean_fico\n",
    "\n",
    "# Drop the fico ranges \n",
    "df_accepted_stripped_copy = df_accepted_stripped_copy.drop(['fico_range_low', 'fico_range_high'], axis = 1)\n",
    "\n",
    "# Change zip_code to float \n",
    "df_accepted_stripped_copy['zip_code'] = df_accepted_stripped_copy['zip_code'].str.rstrip('Oxx').astype('float') \n",
    "\n",
    "# Change settlement_date to pd.to_datetime \n",
    "df_accepted_stripped_copy['settlement_date'] = pd.to_datetime(df_accepted_stripped_copy['settlement_date'])\n",
    "\n",
    "# Dropping negative & > 1 dti values and scaling to decimal \n",
    "df_accepted_stripped_copy = df_accepted_stripped_copy[(df_accepted_stripped_copy[['dti']] > 0).all(1)]\n",
    "df_accepted_stripped_copy['dti'] = df_accepted_stripped_copy['dti']/100 \n",
    "df_accepted_stripped_copy = df_accepted_stripped_copy[(df_accepted_stripped_copy[['dti']] < 1).all(1)]\n",
    "\n"
   ]
  },
  {
   "cell_type": "code",
   "execution_count": 510,
   "metadata": {},
   "outputs": [
    {
     "data": {
      "text/html": [
       "<div>\n",
       "<style scoped>\n",
       "    .dataframe tbody tr th:only-of-type {\n",
       "        vertical-align: middle;\n",
       "    }\n",
       "\n",
       "    .dataframe tbody tr th {\n",
       "        vertical-align: top;\n",
       "    }\n",
       "\n",
       "    .dataframe thead th {\n",
       "        text-align: right;\n",
       "    }\n",
       "</style>\n",
       "<table border=\"1\" class=\"dataframe\">\n",
       "  <thead>\n",
       "    <tr style=\"text-align: right;\">\n",
       "      <th></th>\n",
       "      <th>funded_amnt</th>\n",
       "      <th>settlement_date</th>\n",
       "      <th>title</th>\n",
       "      <th>dti</th>\n",
       "      <th>zip_code</th>\n",
       "      <th>addr_state</th>\n",
       "      <th>emp_length</th>\n",
       "      <th>policy_code</th>\n",
       "      <th>fico_score</th>\n",
       "    </tr>\n",
       "  </thead>\n",
       "  <tbody>\n",
       "    <tr>\n",
       "      <th>0</th>\n",
       "      <td>3600.0</td>\n",
       "      <td>NaT</td>\n",
       "      <td>Debt consolidation</td>\n",
       "      <td>0.0591</td>\n",
       "      <td>190.0</td>\n",
       "      <td>PA</td>\n",
       "      <td>10+ years</td>\n",
       "      <td>1.0</td>\n",
       "      <td>677.0</td>\n",
       "    </tr>\n",
       "    <tr>\n",
       "      <th>1</th>\n",
       "      <td>24700.0</td>\n",
       "      <td>NaT</td>\n",
       "      <td>Business</td>\n",
       "      <td>0.1606</td>\n",
       "      <td>577.0</td>\n",
       "      <td>SD</td>\n",
       "      <td>10+ years</td>\n",
       "      <td>1.0</td>\n",
       "      <td>717.0</td>\n",
       "    </tr>\n",
       "    <tr>\n",
       "      <th>2</th>\n",
       "      <td>20000.0</td>\n",
       "      <td>NaT</td>\n",
       "      <td>NaN</td>\n",
       "      <td>0.1078</td>\n",
       "      <td>605.0</td>\n",
       "      <td>IL</td>\n",
       "      <td>10+ years</td>\n",
       "      <td>1.0</td>\n",
       "      <td>697.0</td>\n",
       "    </tr>\n",
       "  </tbody>\n",
       "</table>\n",
       "</div>"
      ],
      "text/plain": [
       "   funded_amnt settlement_date               title     dti  zip_code  \\\n",
       "0       3600.0             NaT  Debt consolidation  0.0591     190.0   \n",
       "1      24700.0             NaT            Business  0.1606     577.0   \n",
       "2      20000.0             NaT                 NaN  0.1078     605.0   \n",
       "\n",
       "  addr_state emp_length  policy_code  fico_score  \n",
       "0         PA  10+ years          1.0       677.0  \n",
       "1         SD  10+ years          1.0       717.0  \n",
       "2         IL  10+ years          1.0       697.0  "
      ]
     },
     "execution_count": 510,
     "metadata": {},
     "output_type": "execute_result"
    }
   ],
   "source": [
    "df_accepted_stripped_copy.head(n=3)\n"
   ]
  },
  {
   "cell_type": "code",
   "execution_count": 515,
   "metadata": {},
   "outputs": [
    {
     "data": {
      "image/png": "[encoded data removed]",
      "text/plain": [
       "<Figure size 432x288 with 6 Axes>"
      ]
     },
     "metadata": {
      "needs_background": "light"
     },
     "output_type": "display_data"
    }
   ],
   "source": [
    "df_accepted_stripped_copy.hist()\n",
    "plt.show()"
   ]
  },
  {
   "cell_type": "markdown",
   "metadata": {},
   "source": [
    "### Modifying REJECTED Data Columns"
   ]
  },
  {
   "cell_type": "code",
   "execution_count": 503,
   "metadata": {},
   "outputs": [],
   "source": [
    "# In case we need to revert back to the old daa\n",
    "df_rejected_copy = df_rejected.copy()\n"
   ]
  },
  {
   "cell_type": "code",
   "execution_count": 504,
   "metadata": {},
   "outputs": [
    {
     "data": {
      "text/plain": [
       "Amount Requested        float64\n",
       "Application Date         object\n",
       "Loan Title               object\n",
       "Risk_Score              float64\n",
       "Debt-To-Income Ratio     object\n",
       "Zip Code                 object\n",
       "State                    object\n",
       "Employment Length        object\n",
       "Policy Code             float64\n",
       "dtype: object"
      ]
     },
     "execution_count": 504,
     "metadata": {},
     "output_type": "execute_result"
    }
   ],
   "source": [
    "df_rejected_copy.dtypes"
   ]
  },
  {
   "cell_type": "code",
   "execution_count": 505,
   "metadata": {},
   "outputs": [],
   "source": [
    "# Changing debt-to-income ratio to float \n",
    "df_rejected_copy['Debt-To-Income Ratio'] = df_rejected_copy['Debt-To-Income Ratio'].astype('string')\n",
    " \n",
    "df_rejected_copy['Debt-To-Income Ratio'] = df_rejected_copy['Debt-To-Income Ratio'].str.rstrip('%').astype('float') / 100.0\n",
    "\n",
    "# Dropping negative dti values and dropping negative and >1 values \n",
    "df_rejected_copy = df_rejected_copy[(df_rejected_copy[['Debt-To-Income Ratio']] > 0).all(1)]\n",
    "df_rejected_copy = df_rejected_copy[(df_rejected_copy[['Debt-To-Income Ratio']] < 1).all(1)]\n",
    "\n",
    "\n",
    "# Changing settlement date to pd.to_datetime \n",
    "df_rejected_copy['Application Date'] = pd.to_datetime(df_rejected_copy['Application Date'])\n"
   ]
  },
  {
   "cell_type": "code",
   "execution_count": 506,
   "metadata": {},
   "outputs": [
    {
     "data": {
      "text/plain": [
       "Amount Requested               float64\n",
       "Application Date        datetime64[ns]\n",
       "Loan Title                      object\n",
       "Risk_Score                     float64\n",
       "Debt-To-Income Ratio           float64\n",
       "Zip Code                        object\n",
       "State                           object\n",
       "Employment Length               object\n",
       "Policy Code                    float64\n",
       "dtype: object"
      ]
     },
     "execution_count": 506,
     "metadata": {},
     "output_type": "execute_result"
    }
   ],
   "source": [
    "df_rejected_copy.dtypes"
   ]
  },
  {
   "cell_type": "code",
   "execution_count": 507,
   "metadata": {},
   "outputs": [
    {
     "data": {
      "text/html": [
       "<div>\n",
       "<style scoped>\n",
       "    .dataframe tbody tr th:only-of-type {\n",
       "        vertical-align: middle;\n",
       "    }\n",
       "\n",
       "    .dataframe tbody tr th {\n",
       "        vertical-align: top;\n",
       "    }\n",
       "\n",
       "    .dataframe thead th {\n",
       "        text-align: right;\n",
       "    }\n",
       "</style>\n",
       "<table border=\"1\" class=\"dataframe\">\n",
       "  <thead>\n",
       "    <tr style=\"text-align: right;\">\n",
       "      <th></th>\n",
       "      <th>Amount Requested</th>\n",
       "      <th>Application Date</th>\n",
       "      <th>Loan Title</th>\n",
       "      <th>Risk_Score</th>\n",
       "      <th>Debt-To-Income Ratio</th>\n",
       "      <th>Zip Code</th>\n",
       "      <th>State</th>\n",
       "      <th>Employment Length</th>\n",
       "      <th>Policy Code</th>\n",
       "    </tr>\n",
       "  </thead>\n",
       "  <tbody>\n",
       "    <tr>\n",
       "      <th>0</th>\n",
       "      <td>1000.0</td>\n",
       "      <td>2007-05-26</td>\n",
       "      <td>Wedding Covered but No Honeymoon</td>\n",
       "      <td>693.0</td>\n",
       "      <td>0.1000</td>\n",
       "      <td>481xx</td>\n",
       "      <td>NM</td>\n",
       "      <td>4 years</td>\n",
       "      <td>0.0</td>\n",
       "    </tr>\n",
       "    <tr>\n",
       "      <th>1</th>\n",
       "      <td>1000.0</td>\n",
       "      <td>2007-05-26</td>\n",
       "      <td>Consolidating Debt</td>\n",
       "      <td>703.0</td>\n",
       "      <td>0.1000</td>\n",
       "      <td>010xx</td>\n",
       "      <td>MA</td>\n",
       "      <td>&lt; 1 year</td>\n",
       "      <td>0.0</td>\n",
       "    </tr>\n",
       "    <tr>\n",
       "      <th>2</th>\n",
       "      <td>11000.0</td>\n",
       "      <td>2007-05-27</td>\n",
       "      <td>Want to consolidate my debt</td>\n",
       "      <td>715.0</td>\n",
       "      <td>0.1000</td>\n",
       "      <td>212xx</td>\n",
       "      <td>MD</td>\n",
       "      <td>1 year</td>\n",
       "      <td>0.0</td>\n",
       "    </tr>\n",
       "    <tr>\n",
       "      <th>3</th>\n",
       "      <td>6000.0</td>\n",
       "      <td>2007-05-27</td>\n",
       "      <td>waksman</td>\n",
       "      <td>698.0</td>\n",
       "      <td>0.3864</td>\n",
       "      <td>017xx</td>\n",
       "      <td>MA</td>\n",
       "      <td>&lt; 1 year</td>\n",
       "      <td>0.0</td>\n",
       "    </tr>\n",
       "    <tr>\n",
       "      <th>4</th>\n",
       "      <td>1500.0</td>\n",
       "      <td>2007-05-27</td>\n",
       "      <td>mdrigo</td>\n",
       "      <td>509.0</td>\n",
       "      <td>0.0943</td>\n",
       "      <td>209xx</td>\n",
       "      <td>MD</td>\n",
       "      <td>&lt; 1 year</td>\n",
       "      <td>0.0</td>\n",
       "    </tr>\n",
       "  </tbody>\n",
       "</table>\n",
       "</div>"
      ],
      "text/plain": [
       "   Amount Requested Application Date                        Loan Title  \\\n",
       "0            1000.0       2007-05-26  Wedding Covered but No Honeymoon   \n",
       "1            1000.0       2007-05-26                Consolidating Debt   \n",
       "2           11000.0       2007-05-27       Want to consolidate my debt   \n",
       "3            6000.0       2007-05-27                           waksman   \n",
       "4            1500.0       2007-05-27                            mdrigo   \n",
       "\n",
       "   Risk_Score  Debt-To-Income Ratio Zip Code State Employment Length  \\\n",
       "0       693.0                0.1000    481xx    NM           4 years   \n",
       "1       703.0                0.1000    010xx    MA          < 1 year   \n",
       "2       715.0                0.1000    212xx    MD            1 year   \n",
       "3       698.0                0.3864    017xx    MA          < 1 year   \n",
       "4       509.0                0.0943    209xx    MD          < 1 year   \n",
       "\n",
       "   Policy Code  \n",
       "0          0.0  \n",
       "1          0.0  \n",
       "2          0.0  \n",
       "3          0.0  \n",
       "4          0.0  "
      ]
     },
     "execution_count": 507,
     "metadata": {},
     "output_type": "execute_result"
    }
   ],
   "source": [
    "df_rejected_copy.head(n = 5)"
   ]
  },
  {
   "cell_type": "code",
   "execution_count": null,
   "metadata": {},
   "outputs": [],
   "source": []
  },
  {
   "cell_type": "markdown",
   "metadata": {},
   "source": [
    "# Testing Sample with n = 10,000"
   ]
  },
  {
   "cell_type": "code",
   "execution_count": 790,
   "metadata": {},
   "outputs": [],
   "source": [
    "# Taking a sample \n",
    "\n",
    "sample_rejected = df_rejected_copy.sample(n = 10000, replace = False) \n",
    "sample_accepted = df_accepted_stripped_copy.sample(n = 10000, replace = False)\n",
    "\n",
    "# Adding acceptance indicators \n",
    "sample_rejected['accepted'] = 0\n",
    "sample_accepted['accepted'] = 1\n"
   ]
  },
  {
   "cell_type": "code",
   "execution_count": 791,
   "metadata": {},
   "outputs": [
    {
     "data": {
      "text/html": [
       "<div>\n",
       "<style scoped>\n",
       "    .dataframe tbody tr th:only-of-type {\n",
       "        vertical-align: middle;\n",
       "    }\n",
       "\n",
       "    .dataframe tbody tr th {\n",
       "        vertical-align: top;\n",
       "    }\n",
       "\n",
       "    .dataframe thead th {\n",
       "        text-align: right;\n",
       "    }\n",
       "</style>\n",
       "<table border=\"1\" class=\"dataframe\">\n",
       "  <thead>\n",
       "    <tr style=\"text-align: right;\">\n",
       "      <th></th>\n",
       "      <th>funded_amnt</th>\n",
       "      <th>fico_score</th>\n",
       "      <th>dti</th>\n",
       "      <th>zip_code</th>\n",
       "      <th>addr_state</th>\n",
       "      <th>emp_length</th>\n",
       "      <th>policy_code</th>\n",
       "      <th>accepted</th>\n",
       "    </tr>\n",
       "  </thead>\n",
       "  <tbody>\n",
       "    <tr>\n",
       "      <th>1303242</th>\n",
       "      <td>10000.0</td>\n",
       "      <td>677.0</td>\n",
       "      <td>0.1546</td>\n",
       "      <td>15</td>\n",
       "      <td>MA</td>\n",
       "      <td>3 years</td>\n",
       "      <td>1.0</td>\n",
       "      <td>1</td>\n",
       "    </tr>\n",
       "    <tr>\n",
       "      <th>1189910</th>\n",
       "      <td>7500.0</td>\n",
       "      <td>672.0</td>\n",
       "      <td>0.2326</td>\n",
       "      <td>87</td>\n",
       "      <td>NJ</td>\n",
       "      <td>4 years</td>\n",
       "      <td>1.0</td>\n",
       "      <td>1</td>\n",
       "    </tr>\n",
       "    <tr>\n",
       "      <th>981328</th>\n",
       "      <td>21000.0</td>\n",
       "      <td>677.0</td>\n",
       "      <td>0.0867</td>\n",
       "      <td>941</td>\n",
       "      <td>CA</td>\n",
       "      <td>10+ years</td>\n",
       "      <td>1.0</td>\n",
       "      <td>1</td>\n",
       "    </tr>\n",
       "  </tbody>\n",
       "</table>\n",
       "</div>"
      ],
      "text/plain": [
       "         funded_amnt  fico_score     dti zip_code addr_state emp_length  \\\n",
       "1303242      10000.0       677.0  0.1546       15         MA    3 years   \n",
       "1189910       7500.0       672.0  0.2326       87         NJ    4 years   \n",
       "981328       21000.0       677.0  0.0867      941         CA  10+ years   \n",
       "\n",
       "         policy_code  accepted  \n",
       "1303242          1.0         1  \n",
       "1189910          1.0         1  \n",
       "981328           1.0         1  "
      ]
     },
     "execution_count": 791,
     "metadata": {},
     "output_type": "execute_result"
    }
   ],
   "source": [
    "sample_funded_amnt = sample_accepted['funded_amnt'].append(sample_rejected['Amount Requested'])\n",
    "sample_fico_score = sample_accepted['fico_score'].append(sample_rejected['Risk_Score'])\n",
    "sample_dti = sample_accepted['dti'].append(sample_rejected['Debt-To-Income Ratio'])\n",
    "sample_zip_code = sample_accepted['zip_code'].append(sample_rejected['Zip Code'])\n",
    "sample_addr_state = sample_accepted['addr_state'].append(sample_rejected['State'])\n",
    "sample_emp_length = sample_accepted['emp_length'].append(sample_rejected['Employment Length'])\n",
    "sample_policy_code = sample_accepted['policy_code'].append(sample_rejected['Policy Code'])\n",
    "sample_accept = sample_accepted['accepted'].append(sample_rejected['accepted'])\n",
    "\n",
    "d = {'funded_amnt' : sample_funded_amnt, 'fico_score' : sample_fico_score, \n",
    "    'dti' : sample_dti, 'zip_code' : sample_zip_code, 'addr_state' : sample_addr_state,\n",
    "    'emp_length' : sample_addr_state, 'emp_length' : sample_emp_length, \n",
    "    'policy_code' : sample_policy_code, 'accepted' : sample_accept}\n",
    "\n",
    "sample_df = pd.DataFrame(data = d)\n",
    "\n",
    "sample_df.head(n = 3)\n"
   ]
  },
  {
   "cell_type": "code",
   "execution_count": 792,
   "metadata": {},
   "outputs": [],
   "source": [
    "# Log sample_df\n",
    "sample_df = sample_df[(sample_df[['funded_amnt']] > 0).all(1)]\n",
    "\n",
    "sample_df['funded_amnt'] = np.log(sample_df['funded_amnt'])\n"
   ]
  },
  {
   "cell_type": "code",
   "execution_count": 793,
   "metadata": {},
   "outputs": [
    {
     "data": {
      "image/png": "[encoded data removed]",
      "text/plain": [
       "<Figure size 432x288 with 6 Axes>"
      ]
     },
     "metadata": {
      "needs_background": "light"
     },
     "output_type": "display_data"
    }
   ],
   "source": [
    "sample_df.hist()\n",
    "\n",
    "plt.show()\n",
    "\n"
   ]
  },
  {
   "cell_type": "code",
   "execution_count": 794,
   "metadata": {},
   "outputs": [
    {
     "data": {
      "image/png": "[encoded data removed]",
      "text/plain": [
       "<Figure size 432x288 with 2 Axes>"
      ]
     },
     "metadata": {
      "needs_background": "light"
     },
     "output_type": "display_data"
    }
   ],
   "source": [
    "corrMatrix = sample_df.corr()\n",
    "sn.heatmap(corrMatrix, annot=True)\n",
    "plt.title(\"Correlation Matrix\")\n",
    "\n",
    "plt.show()"
   ]
  },
  {
   "cell_type": "code",
   "execution_count": 795,
   "metadata": {},
   "outputs": [
    {
     "name": "stdout",
     "output_type": "stream",
     "text": [
      "funded_amnt    0\n",
      "fico_score     0\n",
      "dti            0\n",
      "addr_state     0\n",
      "emp_length     0\n",
      "policy_code    0\n",
      "accepted       0\n",
      "dtype: int64\n",
      "(19008, 7)\n"
     ]
    }
   ],
   "source": [
    "# Drop columns that we think would not be necessary \n",
    "\n",
    "# Dropping Zip Code since it does not contribute a lot to the correlation matrix \n",
    "# compared to the other variables \n",
    "sample_df = sample_df.drop(['zip_code'], axis = 1)\n",
    "\n",
    "# Drop NA values in categorical columns for easier One Hot Encoding \n",
    "# I decided to drop since the NA rows in these columns are not alot (n = 33)\n",
    "sample_df = sample_df.dropna(subset = [\"addr_state\", \"emp_length\", 'policy_code'])\n",
    "\n",
    "sample_df['fico_score'].fillna(np.mean(sample_df['fico_score']), inplace = True)\n",
    "\n",
    "print(sample_df.isna().sum())\n",
    "print(sample_df.shape)"
   ]
  },
  {
   "cell_type": "markdown",
   "metadata": {},
   "source": [
    "### One Hot Encoding"
   ]
  },
  {
   "cell_type": "code",
   "execution_count": 796,
   "metadata": {},
   "outputs": [
    {
     "data": {
      "text/html": [
       "<div>\n",
       "<style scoped>\n",
       "    .dataframe tbody tr th:only-of-type {\n",
       "        vertical-align: middle;\n",
       "    }\n",
       "\n",
       "    .dataframe tbody tr th {\n",
       "        vertical-align: top;\n",
       "    }\n",
       "\n",
       "    .dataframe thead th {\n",
       "        text-align: right;\n",
       "    }\n",
       "</style>\n",
       "<table border=\"1\" class=\"dataframe\">\n",
       "  <thead>\n",
       "    <tr style=\"text-align: right;\">\n",
       "      <th></th>\n",
       "      <th>funded_amnt</th>\n",
       "      <th>fico_score</th>\n",
       "      <th>dti</th>\n",
       "      <th>accepted</th>\n",
       "      <th>policy_code__0.0</th>\n",
       "      <th>policy_code__1.0</th>\n",
       "      <th>policy_code__2.0</th>\n",
       "      <th>state__AK</th>\n",
       "      <th>state__AL</th>\n",
       "      <th>state__AR</th>\n",
       "      <th>...</th>\n",
       "      <th>emp_length__10+ years</th>\n",
       "      <th>emp_length__2 years</th>\n",
       "      <th>emp_length__3 years</th>\n",
       "      <th>emp_length__4 years</th>\n",
       "      <th>emp_length__5 years</th>\n",
       "      <th>emp_length__6 years</th>\n",
       "      <th>emp_length__7 years</th>\n",
       "      <th>emp_length__8 years</th>\n",
       "      <th>emp_length__9 years</th>\n",
       "      <th>emp_length__&lt; 1 year</th>\n",
       "    </tr>\n",
       "  </thead>\n",
       "  <tbody>\n",
       "    <tr>\n",
       "      <th>1303242</th>\n",
       "      <td>4.000000</td>\n",
       "      <td>677.0</td>\n",
       "      <td>0.1546</td>\n",
       "      <td>1</td>\n",
       "      <td>0</td>\n",
       "      <td>1</td>\n",
       "      <td>0</td>\n",
       "      <td>0</td>\n",
       "      <td>0</td>\n",
       "      <td>0</td>\n",
       "      <td>...</td>\n",
       "      <td>0</td>\n",
       "      <td>0</td>\n",
       "      <td>1</td>\n",
       "      <td>0</td>\n",
       "      <td>0</td>\n",
       "      <td>0</td>\n",
       "      <td>0</td>\n",
       "      <td>0</td>\n",
       "      <td>0</td>\n",
       "      <td>0</td>\n",
       "    </tr>\n",
       "    <tr>\n",
       "      <th>1189910</th>\n",
       "      <td>3.875061</td>\n",
       "      <td>672.0</td>\n",
       "      <td>0.2326</td>\n",
       "      <td>1</td>\n",
       "      <td>0</td>\n",
       "      <td>1</td>\n",
       "      <td>0</td>\n",
       "      <td>0</td>\n",
       "      <td>0</td>\n",
       "      <td>0</td>\n",
       "      <td>...</td>\n",
       "      <td>0</td>\n",
       "      <td>0</td>\n",
       "      <td>0</td>\n",
       "      <td>1</td>\n",
       "      <td>0</td>\n",
       "      <td>0</td>\n",
       "      <td>0</td>\n",
       "      <td>0</td>\n",
       "      <td>0</td>\n",
       "      <td>0</td>\n",
       "    </tr>\n",
       "    <tr>\n",
       "      <th>981328</th>\n",
       "      <td>4.322219</td>\n",
       "      <td>677.0</td>\n",
       "      <td>0.0867</td>\n",
       "      <td>1</td>\n",
       "      <td>0</td>\n",
       "      <td>1</td>\n",
       "      <td>0</td>\n",
       "      <td>0</td>\n",
       "      <td>0</td>\n",
       "      <td>0</td>\n",
       "      <td>...</td>\n",
       "      <td>1</td>\n",
       "      <td>0</td>\n",
       "      <td>0</td>\n",
       "      <td>0</td>\n",
       "      <td>0</td>\n",
       "      <td>0</td>\n",
       "      <td>0</td>\n",
       "      <td>0</td>\n",
       "      <td>0</td>\n",
       "      <td>0</td>\n",
       "    </tr>\n",
       "  </tbody>\n",
       "</table>\n",
       "<p>3 rows × 68 columns</p>\n",
       "</div>"
      ],
      "text/plain": [
       "         funded_amnt  fico_score     dti  accepted  policy_code__0.0  \\\n",
       "1303242     4.000000       677.0  0.1546         1                 0   \n",
       "1189910     3.875061       672.0  0.2326         1                 0   \n",
       "981328      4.322219       677.0  0.0867         1                 0   \n",
       "\n",
       "         policy_code__1.0  policy_code__2.0  state__AK  state__AL  state__AR  \\\n",
       "1303242                 1                 0          0          0          0   \n",
       "1189910                 1                 0          0          0          0   \n",
       "981328                  1                 0          0          0          0   \n",
       "\n",
       "         ...  emp_length__10+ years  emp_length__2 years  emp_length__3 years  \\\n",
       "1303242  ...                      0                    0                    1   \n",
       "1189910  ...                      0                    0                    0   \n",
       "981328   ...                      1                    0                    0   \n",
       "\n",
       "         emp_length__4 years  emp_length__5 years  emp_length__6 years  \\\n",
       "1303242                    0                    0                    0   \n",
       "1189910                    1                    0                    0   \n",
       "981328                     0                    0                    0   \n",
       "\n",
       "         emp_length__7 years  emp_length__8 years  emp_length__9 years  \\\n",
       "1303242                    0                    0                    0   \n",
       "1189910                    0                    0                    0   \n",
       "981328                     0                    0                    0   \n",
       "\n",
       "         emp_length__< 1 year  \n",
       "1303242                     0  \n",
       "1189910                     0  \n",
       "981328                      0  \n",
       "\n",
       "[3 rows x 68 columns]"
      ]
     },
     "execution_count": 796,
     "metadata": {},
     "output_type": "execute_result"
    }
   ],
   "source": [
    "from sklearn.preprocessing import OneHotEncoder\n",
    "\n",
    "# Implement OneHotEncoding on our categorical variables \n",
    "sample_df = pd.get_dummies(sample_df, prefix=['policy_code_'], columns = ['policy_code'])\n",
    "sample_df = pd.get_dummies(sample_df, prefix = ['state_'], columns = ['addr_state'])\n",
    "sample_df = pd.get_dummies(sample_df, prefix = ['emp_length_'], columns = ['emp_length'])\n",
    "\n",
    "\n",
    "sample_df.head(n=3)\n",
    "# sample_df.columns"
   ]
  },
  {
   "cell_type": "code",
   "execution_count": 797,
   "metadata": {},
   "outputs": [],
   "source": [
    "from sklearn.linear_model import LogisticRegression \n",
    "from sklearn.model_selection import train_test_split\n",
    "from sklearn.metrics import confusion_matrix\n",
    "\n",
    "# Split samples \n",
    "X = sample_df.drop(['accepted'], axis = 1)\n",
    "y = sample_df['accepted']\n",
    "\n",
    "#TEMPORARY: filling fico of rejected by mean \n",
    "X.fillna(np.mean(X['fico_score']), inplace = True)\n",
    "\n",
    "#TODO validation set \n",
    "\n",
    "x_train, x_test, y_train, y_test = train_test_split(X, y, test_size = 0.33)\n",
    "\n",
    "# Create model \n",
    "log_reg = LogisticRegression(max_iter = 400)\n",
    "log_reg.fit(x_train, y_train)\n",
    "y_pred = log_reg.predict(x_test)\n"
   ]
  },
  {
   "cell_type": "code",
   "execution_count": 799,
   "metadata": {},
   "outputs": [
    {
     "data": {
      "text/plain": [
       "1.0"
      ]
     },
     "execution_count": 799,
     "metadata": {},
     "output_type": "execute_result"
    }
   ],
   "source": [
    "log_reg.score(x_test, y_test)\n"
   ]
  },
  {
   "cell_type": "code",
   "execution_count": 800,
   "metadata": {},
   "outputs": [
    {
     "name": "stdout",
     "output_type": "stream",
     "text": [
      "Confusion matrix:\n",
      "[[3161    0]\n",
      " [   0 3112]]  \n"
     ]
    },
    {
     "data": {
      "image/png": "[encoded data removed]",
      "text/plain": [
       "<Figure size 432x288 with 2 Axes>"
      ]
     },
     "metadata": {
      "needs_background": "light"
     },
     "output_type": "display_data"
    }
   ],
   "source": [
    "from sklearn import metrics\n",
    "\n",
    "disp = metrics.plot_confusion_matrix(log_reg, x_test, y_test)\n",
    "disp.figure_.suptitle(\"Confusion Matrix\")\n",
    "print(f\"Confusion matrix:\\n{disp.confusion_matrix}  \")\n",
    "\n",
    "plt.show()"
   ]
  },
  {
   "cell_type": "code",
   "execution_count": 806,
   "metadata": {},
   "outputs": [],
   "source": [
    "# Create list of prob of being accepted for loan \n",
    "accepted = []\n",
    "\n",
    "# Create samples of loan amounts \n",
    "requested_amnt = np.linspace(0, 30, 100)\n",
    "\n",
    "for i in requested_amnt: \n",
    "    # Generate a model costumer using the mean values of the features \n",
    "    x_model = np.asarray(x_train.mean()[1:])\n",
    "#     x_model = np.linspace(0,0, 67)\n",
    "     \n",
    "    # Insert our proposed loan amount \n",
    "    x_model = np.insert(x_model, 0, i)\n",
    "\n",
    "    acc = np.round(log_reg.predict_proba(x_model.reshape(1,-1))[0][1],5)\n",
    "    accepted.append(acc)\n",
    "    "
   ]
  },
  {
   "cell_type": "code",
   "execution_count": 807,
   "metadata": {},
   "outputs": [
    {
     "data": {
      "image/png": "[encoded data removed]",
      "text/plain": [
       "<Figure size 432x288 with 1 Axes>"
      ]
     },
     "metadata": {
      "needs_background": "light"
     },
     "output_type": "display_data"
    }
   ],
   "source": [
    "plt.plot(requested_amnt, accepted)\n",
    "plt.ylim([0,1])\n",
    "\n",
    "plt.show()\n",
    "\n",
    "\n"
   ]
  },
  {
   "cell_type": "markdown",
   "metadata": {},
   "source": [
    "# Using on REAL DATA SET \n",
    "\n",
    "IMPORTANT NOTE: We did not use the entire since it was taking way too long for the trainiing to occurr"
   ]
  },
  {
   "cell_type": "code",
   "execution_count": null,
   "metadata": {},
   "outputs": [],
   "source": []
  },
  {
   "cell_type": "code",
   "execution_count": 808,
   "metadata": {},
   "outputs": [],
   "source": [
    "# Assign data \n",
    "\n",
    "# sample_rejected = df_rejected_copy\n",
    "# sample_accepted = df_accepted_stripped_copy\n",
    "\n",
    "sample_rejected = df_rejected_copy.sample(n = 500000, replace = False) \n",
    "sample_accepted = df_accepted_stripped_copy.sample(n = 500000, replace = False)\n",
    "\n",
    "# Adding acceptance indicators \n",
    "sample_rejected['accepted'] = 0\n",
    "sample_accepted['accepted'] = 1"
   ]
  },
  {
   "cell_type": "code",
   "execution_count": 809,
   "metadata": {},
   "outputs": [],
   "source": [
    "# Assign proper columns and combine in one data frame \n",
    "\n",
    "sample_funded_amnt = sample_accepted['funded_amnt'].append(sample_rejected['Amount Requested'])\n",
    "sample_fico_score = sample_accepted['fico_score'].append(sample_rejected['Risk_Score'])\n",
    "sample_dti = sample_accepted['dti'].append(sample_rejected['Debt-To-Income Ratio'])\n",
    "sample_zip_code = sample_accepted['zip_code'].append(sample_rejected['Zip Code'])\n",
    "sample_addr_state = sample_accepted['addr_state'].append(sample_rejected['State'])\n",
    "sample_emp_length = sample_accepted['emp_length'].append(sample_rejected['Employment Length'])\n",
    "sample_policy_code = sample_accepted['policy_code'].append(sample_rejected['Policy Code'])\n",
    "sample_accept = sample_accepted['accepted'].append(sample_rejected['accepted'])\n",
    "\n",
    "d = {'funded_amnt' : sample_funded_amnt, 'fico_score' : sample_fico_score, \n",
    "    'dti' : sample_dti, 'zip_code' : sample_zip_code, 'addr_state' : sample_addr_state,\n",
    "    'emp_length' : sample_addr_state, 'emp_length' : sample_emp_length, \n",
    "    'policy_code' : sample_policy_code, 'accepted' : sample_accept}\n",
    "\n",
    "sample_df = pd.DataFrame(data = d)\n",
    "\n"
   ]
  },
  {
   "cell_type": "code",
   "execution_count": 810,
   "metadata": {},
   "outputs": [
    {
     "data": {
      "text/html": [
       "<div>\n",
       "<style scoped>\n",
       "    .dataframe tbody tr th:only-of-type {\n",
       "        vertical-align: middle;\n",
       "    }\n",
       "\n",
       "    .dataframe tbody tr th {\n",
       "        vertical-align: top;\n",
       "    }\n",
       "\n",
       "    .dataframe thead th {\n",
       "        text-align: right;\n",
       "    }\n",
       "</style>\n",
       "<table border=\"1\" class=\"dataframe\">\n",
       "  <thead>\n",
       "    <tr style=\"text-align: right;\">\n",
       "      <th></th>\n",
       "      <th>funded_amnt</th>\n",
       "      <th>fico_score</th>\n",
       "      <th>dti</th>\n",
       "      <th>zip_code</th>\n",
       "      <th>addr_state</th>\n",
       "      <th>emp_length</th>\n",
       "      <th>policy_code</th>\n",
       "      <th>accepted</th>\n",
       "    </tr>\n",
       "  </thead>\n",
       "  <tbody>\n",
       "    <tr>\n",
       "      <th>1835230</th>\n",
       "      <td>10.308953</td>\n",
       "      <td>692.0</td>\n",
       "      <td>0.2054</td>\n",
       "      <td>640</td>\n",
       "      <td>MO</td>\n",
       "      <td>10+ years</td>\n",
       "      <td>1.0</td>\n",
       "      <td>1</td>\n",
       "    </tr>\n",
       "    <tr>\n",
       "      <th>1682789</th>\n",
       "      <td>8.987197</td>\n",
       "      <td>757.0</td>\n",
       "      <td>0.1310</td>\n",
       "      <td>335</td>\n",
       "      <td>FL</td>\n",
       "      <td>1 year</td>\n",
       "      <td>1.0</td>\n",
       "      <td>1</td>\n",
       "    </tr>\n",
       "    <tr>\n",
       "      <th>164524</th>\n",
       "      <td>9.736547</td>\n",
       "      <td>707.0</td>\n",
       "      <td>0.3072</td>\n",
       "      <td>432</td>\n",
       "      <td>OH</td>\n",
       "      <td>10+ years</td>\n",
       "      <td>1.0</td>\n",
       "      <td>1</td>\n",
       "    </tr>\n",
       "  </tbody>\n",
       "</table>\n",
       "</div>"
      ],
      "text/plain": [
       "         funded_amnt  fico_score     dti zip_code addr_state emp_length  \\\n",
       "1835230    10.308953       692.0  0.2054      640         MO  10+ years   \n",
       "1682789     8.987197       757.0  0.1310      335         FL     1 year   \n",
       "164524      9.736547       707.0  0.3072      432         OH  10+ years   \n",
       "\n",
       "         policy_code  accepted  \n",
       "1835230          1.0         1  \n",
       "1682789          1.0         1  \n",
       "164524           1.0         1  "
      ]
     },
     "execution_count": 810,
     "metadata": {},
     "output_type": "execute_result"
    }
   ],
   "source": [
    "# log our funded_amnt \n",
    "sample_df['funded_amnt'] = np.log(sample_df['funded_amnt'])\n",
    "\n",
    "\n",
    "sample_df.head(n = 3)"
   ]
  },
  {
   "cell_type": "markdown",
   "metadata": {},
   "source": [
    "Note: based on the histogram below seems like our code is okay and we can ignore the warning. It still shows a normal distribution which we desire. "
   ]
  },
  {
   "cell_type": "code",
   "execution_count": 811,
   "metadata": {},
   "outputs": [
    {
     "data": {
      "image/png": "[encoded data removed]",
      "text/plain": [
       "<Figure size 432x288 with 6 Axes>"
      ]
     },
     "metadata": {
      "needs_background": "light"
     },
     "output_type": "display_data"
    }
   ],
   "source": [
    "sample_df.hist()\n",
    "plt.show()"
   ]
  },
  {
   "cell_type": "code",
   "execution_count": 812,
   "metadata": {},
   "outputs": [
    {
     "data": {
      "image/png": "[encoded data removed]",
      "text/plain": [
       "<Figure size 432x288 with 1 Axes>"
      ]
     },
     "metadata": {
      "needs_background": "light"
     },
     "output_type": "display_data"
    }
   ],
   "source": [
    "sample_df['funded_amnt'].hist()\n",
    "plt.title(\"Funded Amount Histogram\")\n",
    "plt.show()"
   ]
  },
  {
   "cell_type": "code",
   "execution_count": 813,
   "metadata": {},
   "outputs": [
    {
     "data": {
      "image/png": "[encoded data removed]",
      "text/plain": [
       "<Figure size 432x288 with 2 Axes>"
      ]
     },
     "metadata": {
      "needs_background": "light"
     },
     "output_type": "display_data"
    }
   ],
   "source": [
    "corrMatrix = sample_df.corr()\n",
    "sn.heatmap(corrMatrix, annot=True)\n",
    "plt.title(\"Correlation Matrix\")\n",
    "\n",
    "plt.show()"
   ]
  },
  {
   "cell_type": "code",
   "execution_count": 814,
   "metadata": {},
   "outputs": [
    {
     "name": "stdout",
     "output_type": "stream",
     "text": [
      "funded_amnt         0\n",
      "fico_score     308153\n",
      "dti                 0\n",
      "addr_state          0\n",
      "emp_length          0\n",
      "policy_code        15\n",
      "accepted            0\n",
      "dtype: int64\n",
      "(950773, 7)\n"
     ]
    }
   ],
   "source": [
    "# Drop columns that we think would not be necessary \n",
    "\n",
    "# Dropping Zip Code since it does not contribute a lot to the correlation matrix \n",
    "# compared to the other variables \n",
    "sample_df = sample_df.drop(['zip_code'], axis = 1)\n",
    "\n",
    "# Drop NA values in categorical columns for easier One Hot Encoding \n",
    "# I decided to drop since the NA rows in these columns are not alot (n = 33)\n",
    "# sample_df = sample_df.dropna(subset = [\"addr_state\", \"emp_length\", 'policy_code'])\n",
    "sample_df = sample_df.dropna(subset = [\"addr_state\", \"emp_length\"])\n",
    "\n",
    "\n",
    "print(sample_df.isna().sum())\n",
    "print(sample_df.shape)"
   ]
  },
  {
   "cell_type": "code",
   "execution_count": 815,
   "metadata": {},
   "outputs": [],
   "source": [
    "from sklearn.preprocessing import OneHotEncoder\n",
    "\n",
    "# Implement OneHotEncoding on our categorical variables \n",
    "# sample_df = pd.get_dummies(sample_df, prefix=['policy_code_'], columns = ['policy_code'])\n",
    "sample_df = pd.get_dummies(sample_df, prefix = ['state_'], columns = ['addr_state'])\n",
    "sample_df = pd.get_dummies(sample_df, prefix = ['emp_length_'], columns = ['emp_length'])\n",
    "\n",
    "\n",
    "# sample_df.head(n=3)\n",
    "# sample_df.columns"
   ]
  },
  {
   "cell_type": "code",
   "execution_count": 816,
   "metadata": {},
   "outputs": [],
   "source": [
    "from sklearn.linear_model import LogisticRegression \n",
    "from sklearn.model_selection import train_test_split\n",
    "from sklearn.metrics import confusion_matrix\n",
    "\n",
    "# Split samples \n",
    "X = sample_df.drop(['accepted'], axis = 1)\n",
    "y = sample_df['accepted']\n",
    "\n",
    "#Filling fico of rejected by mean \n",
    "# The reason for this is that fico score seemed to follow\n",
    "# normal distribution \n",
    "X.fillna(np.mean(X['fico_score']), inplace = True)\n",
    "\n",
    "# Split sets to training and validation  \n",
    "\n",
    "x_train_VAL, x_test, y_train_VAL, y_test = train_test_split(X, y, test_size = 0.25)\n",
    "\n",
    "x_train, x_val, y_train, y_val = train_test_split(x_train_VAL, y_train_VAL, test_size = 0.33)\n",
    "\n"
   ]
  },
  {
   "cell_type": "code",
   "execution_count": null,
   "metadata": {},
   "outputs": [],
   "source": []
  },
  {
   "cell_type": "markdown",
   "metadata": {},
   "source": [
    "### Testing on Validation Set "
   ]
  },
  {
   "cell_type": "code",
   "execution_count": 817,
   "metadata": {},
   "outputs": [],
   "source": [
    "# Create model for VALIDATION SET \n",
    "log_reg_val = LogisticRegression(max_iter = 400)\n",
    "\n",
    "log_reg_val.fit(x_train, y_train)\n",
    "\n",
    "y_val_pred = log_reg_val.predict(x_val)\n",
    "\n"
   ]
  },
  {
   "cell_type": "code",
   "execution_count": 818,
   "metadata": {},
   "outputs": [
    {
     "name": "stdout",
     "output_type": "stream",
     "text": [
      "Confusion matrix:\n",
      "[[118857    449]\n",
      " [     0 116011]]  \n"
     ]
    },
    {
     "data": {
      "image/png": "[encoded data removed]",
      "text/plain": [
       "<Figure size 432x288 with 2 Axes>"
      ]
     },
     "metadata": {
      "needs_background": "light"
     },
     "output_type": "display_data"
    },
    {
     "name": "stdout",
     "output_type": "stream",
     "text": [
      "Score 0.9980919355592669\n"
     ]
    }
   ],
   "source": [
    "# Evaluate Model Performance \n",
    "from sklearn import metrics\n",
    "\n",
    "disp = metrics.plot_confusion_matrix(log_reg_val, x_val, y_val)\n",
    "disp.figure_.suptitle(\"Confusion Matrix\")\n",
    "print(f\"Confusion matrix:\\n{disp.confusion_matrix}  \")\n",
    "\n",
    "plt.show()\n",
    "\n",
    "print(\"Score\", log_reg_val.score(x_val,y_val))\n"
   ]
  },
  {
   "cell_type": "markdown",
   "metadata": {},
   "source": [
    "### Testing on Test Data "
   ]
  },
  {
   "cell_type": "code",
   "execution_count": 819,
   "metadata": {},
   "outputs": [
    {
     "name": "stdout",
     "output_type": "stream",
     "text": [
      "Confusion matrix:\n",
      "[[120567    413]\n",
      " [     0 116714]]  \n"
     ]
    },
    {
     "data": {
      "image/png": "[encoded data removed]",
      "text/plain": [
       "<Figure size 432x288 with 2 Axes>"
      ]
     },
     "metadata": {
      "needs_background": "light"
     },
     "output_type": "display_data"
    },
    {
     "name": "stdout",
     "output_type": "stream",
     "text": [
      "Score 0.9982624719176757\n"
     ]
    }
   ],
   "source": [
    "# Create model for VALIDATION SET \n",
    "log_reg = LogisticRegression(max_iter = 1000)\n",
    "\n",
    "log_reg.fit(x_train, y_train)\n",
    "\n",
    "y_pred = log_reg.predict(x_test)\n",
    "\n",
    "# Evaluate Model Performance \n",
    "\n",
    "disp = metrics.plot_confusion_matrix(log_reg, x_test, y_test)\n",
    "disp.figure_.suptitle(\"Confusion Matrix\")\n",
    "print(f\"Confusion matrix:\\n{disp.confusion_matrix}  \")\n",
    "\n",
    "plt.show()\n",
    "\n",
    "print(\"Score\", log_reg.score(x_test,y_test))\n"
   ]
  },
  {
   "cell_type": "code",
   "execution_count": 845,
   "metadata": {},
   "outputs": [
    {
     "data": {
      "image/png": "[encoded data removed]",
      "text/plain": [
       "<Figure size 432x288 with 1 Axes>"
      ]
     },
     "metadata": {
      "needs_background": "light"
     },
     "output_type": "display_data"
    }
   ],
   "source": [
    "# Create list of prob of being accepted for loan \n",
    "accepted = []\n",
    "\n",
    "# Create samples of loan amounts \n",
    "requested_amnt = np.linspace(1, 25, 100)\n",
    "\n",
    "# rev_requested_amnt= np.exp(requested_amnt)\n",
    "\n",
    "\n",
    "for i in requested_amnt: \n",
    "    # Generate a model costumer using the mean values of the features \n",
    "    x_model = np.asarray(x_train.mean()[1:])\n",
    "    \n",
    "    # Insert our proposed loan amount \n",
    "    x_model = np.insert(x_model, 0, i)\n",
    "\n",
    "    acc = np.round(log_reg.predict_proba(x_model.reshape(1,-1))[0][1],5)\n",
    "    accepted.append(acc)\n",
    "    \n",
    "plt.plot(requested_amnt, accepted, label = 'accepted')\n",
    "plt.legend()\n",
    "plt.title(\"Probability of Getting Accepted compared to Loan Request\")\n",
    "plt.ylabel(\"Probability\")\n",
    "plt.xlabel(\"Loan Request ($)\")\n",
    "\n",
    "plt.show()"
   ]
  },
  {
   "cell_type": "code",
   "execution_count": 851,
   "metadata": {},
   "outputs": [
    {
     "data": {
      "text/plain": [
       "13359.726829661873"
      ]
     },
     "execution_count": 851,
     "metadata": {},
     "output_type": "execute_result"
    }
   ],
   "source": [
    "np.exp(9.5)"
   ]
  },
  {
   "cell_type": "code",
   "execution_count": null,
   "metadata": {},
   "outputs": [],
   "source": []
  }
 ],
 "metadata": {
  "kernelspec": {
   "display_name": "Python 3",
   "language": "python",
   "name": "python3"
  },
  "language_info": {
   "codemirror_mode": {
    "name": "ipython",
    "version": 3
   },
   "file_extension": ".py",
   "mimetype": "text/x-python",
   "name": "python",
   "nbconvert_exporter": "python",
   "pygments_lexer": "ipython3",
   "version": "3.8.5"
  }
 },
 "nbformat": 4,
 "nbformat_minor": 4
}
